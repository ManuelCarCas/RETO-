{
 "cells": [
  {
   "cell_type": "code",
   "execution_count": 1,
   "metadata": {},
   "outputs": [],
   "source": [
    "#Importamos librerias\n",
    "import openpyxl\n",
    "import pandas as pd\n",
    "import numpy as np"
   ]
  },
  {
   "cell_type": "code",
   "execution_count": null,
   "metadata": {},
   "outputs": [],
   "source": [
    "#Leemos el archivo en donde se van a aplicar los filtros\n",
    "df = pd.read_excel('Inmuebles.xlsx', index_col=1)\n",
    "#df = pd.read_excel('Inmuebles.xlsx')\n",
    "df"
   ]
  },
  {
   "cell_type": "code",
   "execution_count": null,
   "metadata": {},
   "outputs": [],
   "source": [
    "#Filtros básicos para variables cualitativas \n",
    "#Filtro por objeto\n",
    "filtro1=df[df['Operación'] == \"Venta\"]\n",
    "filtro1"
   ]
  },
  {
   "cell_type": "code",
   "execution_count": 7,
   "metadata": {},
   "outputs": [
    {
     "data": {
      "text/html": [
       "<div>\n",
       "<style scoped>\n",
       "    .dataframe tbody tr th:only-of-type {\n",
       "        vertical-align: middle;\n",
       "    }\n",
       "\n",
       "    .dataframe tbody tr th {\n",
       "        vertical-align: top;\n",
       "    }\n",
       "\n",
       "    .dataframe thead th {\n",
       "        text-align: right;\n",
       "    }\n",
       "</style>\n",
       "<table border=\"1\" class=\"dataframe\">\n",
       "  <thead>\n",
       "    <tr style=\"text-align: right;\">\n",
       "      <th></th>\n",
       "      <th>Referencia</th>\n",
       "      <th>Tipo</th>\n",
       "      <th>Operación</th>\n",
       "      <th>Provincia</th>\n",
       "      <th>Superficie</th>\n",
       "      <th>Precio Venta</th>\n",
       "      <th>Fecha Venta</th>\n",
       "      <th>Vendedor</th>\n",
       "    </tr>\n",
       "    <tr>\n",
       "      <th>Fecha Alta</th>\n",
       "      <th></th>\n",
       "      <th></th>\n",
       "      <th></th>\n",
       "      <th></th>\n",
       "      <th></th>\n",
       "      <th></th>\n",
       "      <th></th>\n",
       "      <th></th>\n",
       "    </tr>\n",
       "  </thead>\n",
       "  <tbody>\n",
       "    <tr>\n",
       "      <th>2004-07-05</th>\n",
       "      <td>501</td>\n",
       "      <td>Casa</td>\n",
       "      <td>Venta</td>\n",
       "      <td>Lleida</td>\n",
       "      <td>229</td>\n",
       "      <td>965006</td>\n",
       "      <td>2005-02-02</td>\n",
       "      <td>Pedro</td>\n",
       "    </tr>\n",
       "    <tr>\n",
       "      <th>2004-12-25</th>\n",
       "      <td>1001</td>\n",
       "      <td>Local</td>\n",
       "      <td>Venta</td>\n",
       "      <td>Barcelona</td>\n",
       "      <td>250</td>\n",
       "      <td>1368750</td>\n",
       "      <td>2005-06-07</td>\n",
       "      <td>Luisa</td>\n",
       "    </tr>\n",
       "    <tr>\n",
       "      <th>2005-06-21</th>\n",
       "      <td>1501</td>\n",
       "      <td>Suelo</td>\n",
       "      <td>Venta</td>\n",
       "      <td>Lleida</td>\n",
       "      <td>52</td>\n",
       "      <td>317044</td>\n",
       "      <td>2006-04-16</td>\n",
       "      <td>Jesús</td>\n",
       "    </tr>\n",
       "    <tr>\n",
       "      <th>2005-12-25</th>\n",
       "      <td>2001</td>\n",
       "      <td>Suelo</td>\n",
       "      <td>Venta</td>\n",
       "      <td>Barcelona</td>\n",
       "      <td>265</td>\n",
       "      <td>1348055</td>\n",
       "      <td>2006-07-19</td>\n",
       "      <td>Joaquín</td>\n",
       "    </tr>\n",
       "    <tr>\n",
       "      <th>2006-06-11</th>\n",
       "      <td>2501</td>\n",
       "      <td>Casa</td>\n",
       "      <td>Alquiler</td>\n",
       "      <td>Girona</td>\n",
       "      <td>231</td>\n",
       "      <td>2069529</td>\n",
       "      <td>2006-12-24</td>\n",
       "      <td>Jesús</td>\n",
       "    </tr>\n",
       "    <tr>\n",
       "      <th>2006-12-25</th>\n",
       "      <td>3001</td>\n",
       "      <td>Local</td>\n",
       "      <td>Alquiler</td>\n",
       "      <td>Lleida</td>\n",
       "      <td>273</td>\n",
       "      <td>1993446</td>\n",
       "      <td>NaT</td>\n",
       "      <td>NaN</td>\n",
       "    </tr>\n",
       "  </tbody>\n",
       "</table>\n",
       "</div>"
      ],
      "text/plain": [
       "            Referencia   Tipo Operación  Provincia  Superficie  Precio Venta  \\\n",
       "Fecha Alta                                                                     \n",
       "2004-07-05         501   Casa     Venta     Lleida         229        965006   \n",
       "2004-12-25        1001  Local     Venta  Barcelona         250       1368750   \n",
       "2005-06-21        1501  Suelo     Venta     Lleida          52        317044   \n",
       "2005-12-25        2001  Suelo     Venta  Barcelona         265       1348055   \n",
       "2006-06-11        2501   Casa  Alquiler     Girona         231       2069529   \n",
       "2006-12-25        3001  Local  Alquiler     Lleida         273       1993446   \n",
       "\n",
       "           Fecha Venta Vendedor  \n",
       "Fecha Alta                       \n",
       "2004-07-05  2005-02-02    Pedro  \n",
       "2004-12-25  2005-06-07    Luisa  \n",
       "2005-06-21  2006-04-16    Jesús  \n",
       "2005-12-25  2006-07-19  Joaquín  \n",
       "2006-06-11  2006-12-24    Jesús  \n",
       "2006-12-25         NaT      NaN  "
      ]
     },
     "execution_count": 7,
     "metadata": {},
     "output_type": "execute_result"
    }
   ],
   "source": [
    "#Filtro por filas\n",
    "#filtro2= df.iloc[300:302,: ]\n",
    "filtro2=df.iloc[ [500, 1000, 1500, 2000, 2500, 3000] , : ]  #filas no consecutivas \n",
    "filtro2"
   ]
  }
 ],
 "metadata": {
  "kernelspec": {
   "display_name": "Python 3.10.6 64-bit",
   "language": "python",
   "name": "python3"
  },
  "language_info": {
   "codemirror_mode": {
    "name": "ipython",
    "version": 3
   },
   "file_extension": ".py",
   "mimetype": "text/x-python",
   "name": "python",
   "nbconvert_exporter": "python",
   "pygments_lexer": "ipython3",
   "version": "3.10.6"
  },
  "orig_nbformat": 4,
  "vscode": {
   "interpreter": {
    "hash": "aee8b7b246df8f9039afb4144a1f6fd8d2ca17a180786b69acc140d282b71a49"
   }
  }
 },
 "nbformat": 4,
 "nbformat_minor": 2
}
