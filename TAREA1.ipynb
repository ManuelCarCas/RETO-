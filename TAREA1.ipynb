{
 "cells": [
  {
   "cell_type": "code",
   "execution_count": 1,
   "metadata": {},
   "outputs": [],
   "source": [
    "#Importamos librerias\n",
    "import openpyxl\n",
    "import pandas as pd\n",
    "import numpy as np"
   ]
  },
  {
   "cell_type": "code",
   "execution_count": null,
   "metadata": {},
   "outputs": [],
   "source": [
    "#Leemos el archivo en donde se van a aplicar los filtros\n",
    "df = pd.read_excel('Inmuebles.xlsx', index_col=2)\n",
    "#df = pd.read_excel('Inmuebles.xlsx')\n",
    "df"
   ]
  },
  {
   "cell_type": "code",
   "execution_count": null,
   "metadata": {},
   "outputs": [],
   "source": [
    "#Filtros básicos para variables cualitativas \n",
    "#Filtro por objeto\n",
    "filtro1=df[df['Operación'] == \"Venta\"]\n",
    "filtro1"
   ]
  },
  {
   "cell_type": "code",
   "execution_count": 53,
   "metadata": {},
   "outputs": [],
   "source": [
    "#Convertir archivo filtrado a CSV\n",
    "filtro1.to_csv(\"Filtro.csv\")"
   ]
  },
  {
   "cell_type": "code",
   "execution_count": null,
   "metadata": {},
   "outputs": [],
   "source": [
    "#Filtro por filas\n",
    "#filtro2= df.iloc[300:302,: ]\n",
    "filtro2=df.iloc[ [500, 1000, 1500, 2000, 2500, 3000] , : ]  #filas no consecutivas \n",
    "filtro2"
   ]
  },
  {
   "cell_type": "code",
   "execution_count": 54,
   "metadata": {},
   "outputs": [],
   "source": [
    "#Convertir archivo filtrado a CSV\n",
    "filtro2.to_csv(\"Filtro2.csv\")"
   ]
  },
  {
   "cell_type": "code",
   "execution_count": null,
   "metadata": {},
   "outputs": [],
   "source": [
    "#Filtro por columnas\n",
    "filtro3=df.iloc[ : , 2:6]\n",
    "#filtro3=df.iloc[ : , [1,4,6]]  #columnas no consecutivas \n",
    "filtro3"
   ]
  },
  {
   "cell_type": "code",
   "execution_count": 55,
   "metadata": {},
   "outputs": [],
   "source": [
    "#Convertir archivo filtrado a CSV\n",
    "filtro3.to_csv(\"Filtro3.csv\")"
   ]
  },
  {
   "cell_type": "code",
   "execution_count": null,
   "metadata": {},
   "outputs": [],
   "source": [
    "#Filtro de filas vs columnas \n",
    "filtro4=df.loc[[\"Local\",\"Piso\"], [\"Provincia\"]]\n",
    "filtro4"
   ]
  },
  {
   "cell_type": "code",
   "execution_count": 56,
   "metadata": {},
   "outputs": [],
   "source": [
    "#Convertir archivo filtrado a CSV\n",
    "filtro4.to_csv(\"Filtro4.csv\")"
   ]
  },
  {
   "cell_type": "code",
   "execution_count": null,
   "metadata": {},
   "outputs": [],
   "source": [
    "#Filtro por cabecera\n",
    "filtro5=df.head(9)\n",
    "filtro5"
   ]
  },
  {
   "cell_type": "code",
   "execution_count": null,
   "metadata": {},
   "outputs": [],
   "source": [
    "#FILTROS BASICOS PARA VARIABLES CUANTITATIVAS\n",
    "#Filtro por comparacion\n",
    "filtro6=df[df[\"Superficie\"] >= 300]\n",
    "filtro6"
   ]
  },
  {
   "cell_type": "code",
   "execution_count": null,
   "metadata": {},
   "outputs": [],
   "source": [
    "#FILTROS BASICOS CON CONETORES LOGICOS\n",
    "#Filtro Y\n",
    "filtro7=df[(df[\"Precio Venta\"] > 2200000) & (df[\"Provincia\"] == \"Barcelona\")]\n",
    "filtro7"
   ]
  },
  {
   "cell_type": "code",
   "execution_count": null,
   "metadata": {},
   "outputs": [],
   "source": [
    "#Filtro O\n",
    "filtro8=df[(df[\"Precio Venta\"] > 2500000) | (df[\"Superficie\"] >= 300)]\n",
    "filtro8"
   ]
  },
  {
   "cell_type": "code",
   "execution_count": null,
   "metadata": {},
   "outputs": [],
   "source": [
    "#Filtro not\n",
    "filtro9=df[~(df[\"Operación\"] == \"Alquiler\") & ~(df[\"Provincia\"] == \"Girona\")]\n",
    "filtro9"
   ]
  }
 ],
 "metadata": {
  "kernelspec": {
   "display_name": "Python 3.10.6 64-bit",
   "language": "python",
   "name": "python3"
  },
  "language_info": {
   "codemirror_mode": {
    "name": "ipython",
    "version": 3
   },
   "file_extension": ".py",
   "mimetype": "text/x-python",
   "name": "python",
   "nbconvert_exporter": "python",
   "pygments_lexer": "ipython3",
   "version": "3.10.6"
  },
  "orig_nbformat": 4,
  "vscode": {
   "interpreter": {
    "hash": "aee8b7b246df8f9039afb4144a1f6fd8d2ca17a180786b69acc140d282b71a49"
   }
  }
 },
 "nbformat": 4,
 "nbformat_minor": 2
}
